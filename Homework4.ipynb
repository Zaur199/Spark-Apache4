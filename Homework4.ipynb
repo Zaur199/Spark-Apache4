{
  "cells": [
    {
      "cell_type": "markdown",
      "metadata": {
        "id": "Ew-1ht-TeUiY"
      },
      "source": []
    },
    {
      "cell_type": "markdown",
      "metadata": {
        "id": "QtuhLwWqeWL3"
      },
      "source": [
        "Условие: используйте источник rate, напишите код, который создаст дополнительный столбец, который будет выводить сумму только нечётных чисел."
      ]
    },
    {
      "cell_type": "code",
      "execution_count": 2,
      "metadata": {
        "id": "o0t2jLrheYXg"
      },
      "outputs": [],
      "source": [
        "from pyspark.sql import SparkSession\n",
        "from pyspark.sql.functions import col, when, sum"
      ]
    },
    {
      "cell_type": "code",
      "execution_count": 3,
      "metadata": {
        "id": "80HMZvyve9NW"
      },
      "outputs": [
        {
          "name": "stderr",
          "output_type": "stream",
          "text": [
            "24/06/02 18:25:19 WARN Utils: Your hostname, MateBook-D16 resolves to a loopback address: 127.0.1.1; using 192.168.1.12 instead (on interface wlp0s20f3)\n",
            "24/06/02 18:25:19 WARN Utils: Set SPARK_LOCAL_IP if you need to bind to another address\n",
            "Setting default log level to \"WARN\".\n",
            "To adjust logging level use sc.setLogLevel(newLevel). For SparkR, use setLogLevel(newLevel).\n",
            "24/06/02 18:25:20 WARN NativeCodeLoader: Unable to load native-hadoop library for your platform... using builtin-java classes where applicable\n"
          ]
        }
      ],
      "source": [
        "# Создание сессии Spark\n",
        "spark = SparkSession.builder.appName(\"OddNumbersSum\").getOrCreate()"
      ]
    },
    {
      "cell_type": "code",
      "execution_count": 4,
      "metadata": {
        "id": "c090LQkUfHPK"
      },
      "outputs": [],
      "source": [
        "# Создание источника rate\n",
        "df = spark.readStream.format(\"rate\").load()"
      ]
    },
    {
      "cell_type": "code",
      "execution_count": 5,
      "metadata": {
        "id": "uCG7GDI6fLQi"
      },
      "outputs": [],
      "source": [
        "# Добавление нового столбца для суммы нечетных чисел\n",
        "df = df.withColumn(\"is_odd\", when(col(\"value\") % 2 != 0, col(\"value\")).otherwise(0))"
      ]
    },
    {
      "cell_type": "code",
      "execution_count": 6,
      "metadata": {
        "id": "te5BQvOEfTC6"
      },
      "outputs": [],
      "source": [
        "# Вычисление суммы нечетных чисел\n",
        "result = df.groupBy().agg(sum(\"is_odd\").alias(\"odd_numbers_sum\"))"
      ]
    },
    {
      "cell_type": "code",
      "execution_count": 11,
      "metadata": {
        "id": "gtTe239GfXuh"
      },
      "outputs": [],
      "source": [
        "# Запуск стрима и вывод результатов\n",
        "query = result.writeStream.outputMode(\"complete\").format(\"console\").start()\n",
        "query.awaitTermination()"
      ]
    },
    {
      "cell_type": "code",
      "execution_count": 12,
      "metadata": {},
      "outputs": [],
      "source": [
        "query.stop()"
      ]
    }
  ],
  "metadata": {
    "colab": {
      "provenance": []
    },
    "kernelspec": {
      "display_name": "Python 3",
      "name": "python3"
    },
    "language_info": {
      "codemirror_mode": {
        "name": "ipython",
        "version": 3
      },
      "file_extension": ".py",
      "mimetype": "text/x-python",
      "name": "python",
      "nbconvert_exporter": "python",
      "pygments_lexer": "ipython3",
      "version": "3.1.undefined"
    }
  },
  "nbformat": 4,
  "nbformat_minor": 0
}
